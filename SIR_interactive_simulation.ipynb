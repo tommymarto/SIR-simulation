{
 "metadata": {
  "language_info": {
   "codemirror_mode": {
    "name": "ipython",
    "version": 3
   },
   "file_extension": ".py",
   "mimetype": "text/x-python",
   "name": "python",
   "nbconvert_exporter": "python",
   "pygments_lexer": "ipython3",
   "version": "3.9.1-final"
  },
  "orig_nbformat": 2,
  "kernelspec": {
   "name": "python3",
   "display_name": "Python 3",
   "language": "python"
  }
 },
 "nbformat": 4,
 "nbformat_minor": 2,
 "cells": [
  {
   "source": [
    "## Open an interactive version\n",
    "[![Binder](https://mybinder.org/badge_logo.svg)](https://mybinder.org/v2/gh/tommymarto/SIR-simulation/main?filepath=SIR_interactive_simulation.ipynb)"
   ],
   "cell_type": "markdown",
   "metadata": {}
  },
  {
   "cell_type": "code",
   "execution_count": 2,
   "metadata": {},
   "outputs": [
    {
     "output_type": "stream",
     "name": "stdout",
     "text": [
      "Requirement already satisfied: matplotlib in c:\\users\\tomma\\appdata\\local\\programs\\python\\python39\\lib\\site-packages (3.3.4)\n",
      "Requirement already satisfied: python-dateutil>=2.1 in c:\\users\\tomma\\appdata\\local\\programs\\python\\python39\\lib\\site-packages (from matplotlib) (2.8.1)\n",
      "Requirement already satisfied: cycler>=0.10 in c:\\users\\tomma\\appdata\\local\\programs\\python\\python39\\lib\\site-packages (from matplotlib) (0.10.0)\n",
      "Requirement already satisfied: pillow>=6.2.0 in c:\\users\\tomma\\appdata\\local\\programs\\python\\python39\\lib\\site-packages (from matplotlib) (8.1.0)\n",
      "Requirement already satisfied: pyparsing!=2.0.4,!=2.1.2,!=2.1.6,>=2.0.3 in c:\\users\\tomma\\appdata\\local\\programs\\python\\python39\\lib\\site-packages (from matplotlib) (2.4.7)\n",
      "Requirement already satisfied: kiwisolver>=1.0.1 in c:\\users\\tomma\\appdata\\local\\programs\\python\\python39\\lib\\site-packages (from matplotlib) (1.3.1)\n",
      "Requirement already satisfied: numpy>=1.15 in c:\\users\\tomma\\appdata\\local\\programs\\python\\python39\\lib\\site-packages (from matplotlib) (1.20.1)\n",
      "Requirement already satisfied: six in c:\\users\\tomma\\appdata\\local\\programs\\python\\python39\\lib\\site-packages (from cycler>=0.10->matplotlib) (1.15.0)\n",
      "Impossibile trovare il percorso specificato.\n",
      "Requirement already satisfied: numpy in c:\\users\\tomma\\appdata\\local\\programs\\python\\python39\\lib\\site-packages (1.20.1)\n",
      "Impossibile trovare il percorso specificato.\n",
      "Requirement already satisfied: ipywidgets in c:\\users\\tomma\\appdata\\local\\programs\\python\\python39\\lib\\site-packages (7.6.3)\n",
      "Requirement already satisfied: nbformat>=4.2.0 in c:\\users\\tomma\\appdata\\local\\programs\\python\\python39\\lib\\site-packages (from ipywidgets) (5.1.2)\n",
      "Requirement already satisfied: ipykernel>=4.5.1 in c:\\users\\tomma\\appdata\\local\\programs\\python\\python39\\lib\\site-packages (from ipywidgets) (5.4.3)\n",
      "Requirement already satisfied: widgetsnbextension~=3.5.0 in c:\\users\\tomma\\appdata\\local\\programs\\python\\python39\\lib\\site-packages (from ipywidgets) (3.5.1)\n",
      "Impossibile trovare il percorso specificato.\n",
      "Requirement already satisfied: ipython>=4.0.0 in c:\\users\\tomma\\appdata\\local\\programs\\python\\python39\\lib\\site-packages (from ipywidgets) (7.20.0)\n",
      "Requirement already satisfied: traitlets>=4.3.1 in c:\\users\\tomma\\appdata\\local\\programs\\python\\python39\\lib\\site-packages (from ipywidgets) (5.0.5)\n",
      "Requirement already satisfied: jupyterlab-widgets>=1.0.0 in c:\\users\\tomma\\appdata\\local\\programs\\python\\python39\\lib\\site-packages (from ipywidgets) (1.0.0)\n",
      "Requirement already satisfied: tornado>=4.2 in c:\\users\\tomma\\appdata\\local\\programs\\python\\python39\\lib\\site-packages (from ipykernel>=4.5.1->ipywidgets) (6.1)\n",
      "Requirement already satisfied: jupyter-client in c:\\users\\tomma\\appdata\\local\\programs\\python\\python39\\lib\\site-packages (from ipykernel>=4.5.1->ipywidgets) (6.1.11)\n",
      "Requirement already satisfied: colorama in c:\\users\\tomma\\appdata\\local\\programs\\python\\python39\\lib\\site-packages (from ipython>=4.0.0->ipywidgets) (0.4.4)\n",
      "Requirement already satisfied: prompt-toolkit!=3.0.0,!=3.0.1,<3.1.0,>=2.0.0 in c:\\users\\tomma\\appdata\\local\\programs\\python\\python39\\lib\\site-packages (from ipython>=4.0.0->ipywidgets) (3.0.16)\n",
      "Requirement already satisfied: pickleshare in c:\\users\\tomma\\appdata\\local\\programs\\python\\python39\\lib\\site-packages (from ipython>=4.0.0->ipywidgets) (0.7.5)\n",
      "Requirement already satisfied: decorator in c:\\users\\tomma\\appdata\\local\\programs\\python\\python39\\lib\\site-packages (from ipython>=4.0.0->ipywidgets) (4.4.2)\n",
      "Requirement already satisfied: pygments in c:\\users\\tomma\\appdata\\local\\programs\\python\\python39\\lib\\site-packages (from ipython>=4.0.0->ipywidgets) (2.8.0)\n",
      "Requirement already satisfied: setuptools>=18.5 in c:\\users\\tomma\\appdata\\local\\programs\\python\\python39\\lib\\site-packages (from ipython>=4.0.0->ipywidgets) (49.2.1)\n",
      "Requirement already satisfied: jedi>=0.16 in c:\\users\\tomma\\appdata\\local\\programs\\python\\python39\\lib\\site-packages (from ipython>=4.0.0->ipywidgets) (0.18.0)\n",
      "Requirement already satisfied: backcall in c:\\users\\tomma\\appdata\\local\\programs\\python\\python39\\lib\\site-packages (from ipython>=4.0.0->ipywidgets) (0.2.0)\n",
      "Requirement already satisfied: parso<0.9.0,>=0.8.0 in c:\\users\\tomma\\appdata\\local\\programs\\python\\python39\\lib\\site-packages (from jedi>=0.16->ipython>=4.0.0->ipywidgets) (0.8.1)\n",
      "Requirement already satisfied: ipython-genutils in c:\\users\\tomma\\appdata\\local\\programs\\python\\python39\\lib\\site-packages (from nbformat>=4.2.0->ipywidgets) (0.2.0)\n",
      "Requirement already satisfied: jsonschema!=2.5.0,>=2.4 in c:\\users\\tomma\\appdata\\local\\programs\\python\\python39\\lib\\site-packages (from nbformat>=4.2.0->ipywidgets) (3.2.0)\n",
      "Requirement already satisfied: jupyter-core in c:\\users\\tomma\\appdata\\local\\programs\\python\\python39\\lib\\site-packages (from nbformat>=4.2.0->ipywidgets) (4.7.1)\n",
      "Requirement already satisfied: six>=1.11.0 in c:\\users\\tomma\\appdata\\local\\programs\\python\\python39\\lib\\site-packages (from jsonschema!=2.5.0,>=2.4->nbformat>=4.2.0->ipywidgets) (1.15.0)\n",
      "Requirement already satisfied: pyrsistent>=0.14.0 in c:\\users\\tomma\\appdata\\local\\programs\\python\\python39\\lib\\site-packages (from jsonschema!=2.5.0,>=2.4->nbformat>=4.2.0->ipywidgets) (0.17.3)\n",
      "Requirement already satisfied: attrs>=17.4.0 in c:\\users\\tomma\\appdata\\local\\programs\\python\\python39\\lib\\site-packages (from jsonschema!=2.5.0,>=2.4->nbformat>=4.2.0->ipywidgets) (20.3.0)\n",
      "Requirement already satisfied: wcwidth in c:\\users\\tomma\\appdata\\local\\programs\\python\\python39\\lib\\site-packages (from prompt-toolkit!=3.0.0,!=3.0.1,<3.1.0,>=2.0.0->ipython>=4.0.0->ipywidgets) (0.2.5)\n",
      "Requirement already satisfied: notebook>=4.4.1 in c:\\users\\tomma\\appdata\\local\\programs\\python\\python39\\lib\\site-packages (from widgetsnbextension~=3.5.0->ipywidgets) (6.2.0)\n",
      "Requirement already satisfied: pyzmq>=17 in c:\\users\\tomma\\appdata\\local\\programs\\python\\python39\\lib\\site-packages (from notebook>=4.4.1->widgetsnbextension~=3.5.0->ipywidgets) (22.0.3)\n",
      "Requirement already satisfied: terminado>=0.8.3 in c:\\users\\tomma\\appdata\\local\\programs\\python\\python39\\lib\\site-packages (from notebook>=4.4.1->widgetsnbextension~=3.5.0->ipywidgets) (0.9.2)\n",
      "Requirement already satisfied: prometheus-client in c:\\users\\tomma\\appdata\\local\\programs\\python\\python39\\lib\\site-packages (from notebook>=4.4.1->widgetsnbextension~=3.5.0->ipywidgets) (0.9.0)\n",
      "Requirement already satisfied: Send2Trash>=1.5.0 in c:\\users\\tomma\\appdata\\local\\programs\\python\\python39\\lib\\site-packages (from notebook>=4.4.1->widgetsnbextension~=3.5.0->ipywidgets) (1.5.0)\n",
      "Requirement already satisfied: jinja2 in c:\\users\\tomma\\appdata\\local\\programs\\python\\python39\\lib\\site-packages (from notebook>=4.4.1->widgetsnbextension~=3.5.0->ipywidgets) (2.11.3)\n",
      "Requirement already satisfied: argon2-cffi in c:\\users\\tomma\\appdata\\local\\programs\\python\\python39\\lib\\site-packages (from notebook>=4.4.1->widgetsnbextension~=3.5.0->ipywidgets) (20.1.0)\n",
      "Requirement already satisfied: nbconvert in c:\\users\\tomma\\appdata\\local\\programs\\python\\python39\\lib\\site-packages (from notebook>=4.4.1->widgetsnbextension~=3.5.0->ipywidgets) (6.0.7)\n",
      "Requirement already satisfied: python-dateutil>=2.1 in c:\\users\\tomma\\appdata\\local\\programs\\python\\python39\\lib\\site-packages (from jupyter-client->ipykernel>=4.5.1->ipywidgets) (2.8.1)\n",
      "Requirement already satisfied: pywin32>=1.0 in c:\\users\\tomma\\appdata\\local\\programs\\python\\python39\\lib\\site-packages (from jupyter-core->nbformat>=4.2.0->ipywidgets) (300)\n",
      "Requirement already satisfied: pywinpty>=0.5 in c:\\users\\tomma\\appdata\\local\\programs\\python\\python39\\lib\\site-packages (from terminado>=0.8.3->notebook>=4.4.1->widgetsnbextension~=3.5.0->ipywidgets) (0.5.7)\n",
      "Requirement already satisfied: cffi>=1.0.0 in c:\\users\\tomma\\appdata\\local\\programs\\python\\python39\\lib\\site-packages (from argon2-cffi->notebook>=4.4.1->widgetsnbextension~=3.5.0->ipywidgets) (1.14.5)\n",
      "Requirement already satisfied: pycparser in c:\\users\\tomma\\appdata\\local\\programs\\python\\python39\\lib\\site-packages (from cffi>=1.0.0->argon2-cffi->notebook>=4.4.1->widgetsnbextension~=3.5.0->ipywidgets) (2.20)\n",
      "Requirement already satisfied: MarkupSafe>=0.23 in c:\\users\\tomma\\appdata\\local\\programs\\python\\python39\\lib\\site-packages (from jinja2->notebook>=4.4.1->widgetsnbextension~=3.5.0->ipywidgets) (1.1.1)\n",
      "Requirement already satisfied: entrypoints>=0.2.2 in c:\\users\\tomma\\appdata\\local\\programs\\python\\python39\\lib\\site-packages (from nbconvert->notebook>=4.4.1->widgetsnbextension~=3.5.0->ipywidgets) (0.3)\n",
      "Requirement already satisfied: testpath in c:\\users\\tomma\\appdata\\local\\programs\\python\\python39\\lib\\site-packages (from nbconvert->notebook>=4.4.1->widgetsnbextension~=3.5.0->ipywidgets) (0.4.4)\n",
      "Requirement already satisfied: defusedxml in c:\\users\\tomma\\appdata\\local\\programs\\python\\python39\\lib\\site-packages (from nbconvert->notebook>=4.4.1->widgetsnbextension~=3.5.0->ipywidgets) (0.6.0)\n",
      "Requirement already satisfied: pandocfilters>=1.4.1 in c:\\users\\tomma\\appdata\\local\\programs\\python\\python39\\lib\\site-packages (from nbconvert->notebook>=4.4.1->widgetsnbextension~=3.5.0->ipywidgets) (1.4.3)\n",
      "Requirement already satisfied: mistune<2,>=0.8.1 in c:\\users\\tomma\\appdata\\local\\programs\\python\\python39\\lib\\site-packages (from nbconvert->notebook>=4.4.1->widgetsnbextension~=3.5.0->ipywidgets) (0.8.4)\n",
      "Requirement already satisfied: nbclient<0.6.0,>=0.5.0 in c:\\users\\tomma\\appdata\\local\\programs\\python\\python39\\lib\\site-packages (from nbconvert->notebook>=4.4.1->widgetsnbextension~=3.5.0->ipywidgets) (0.5.2)\n",
      "Requirement already satisfied: jupyterlab-pygments in c:\\users\\tomma\\appdata\\local\\programs\\python\\python39\\lib\\site-packages (from nbconvert->notebook>=4.4.1->widgetsnbextension~=3.5.0->ipywidgets) (0.1.2)\n",
      "Requirement already satisfied: bleach in c:\\users\\tomma\\appdata\\local\\programs\\python\\python39\\lib\\site-packages (from nbconvert->notebook>=4.4.1->widgetsnbextension~=3.5.0->ipywidgets) (3.3.0)\n",
      "Requirement already satisfied: nest-asyncio in c:\\users\\tomma\\appdata\\local\\programs\\python\\python39\\lib\\site-packages (from nbclient<0.6.0,>=0.5.0->nbconvert->notebook>=4.4.1->widgetsnbextension~=3.5.0->ipywidgets) (1.5.1)\n",
      "Requirement already satisfied: async-generator in c:\\users\\tomma\\appdata\\local\\programs\\python\\python39\\lib\\site-packages (from nbclient<0.6.0,>=0.5.0->nbconvert->notebook>=4.4.1->widgetsnbextension~=3.5.0->ipywidgets) (1.10)\n",
      "Requirement already satisfied: webencodings in c:\\users\\tomma\\appdata\\local\\programs\\python\\python39\\lib\\site-packages (from bleach->nbconvert->notebook>=4.4.1->widgetsnbextension~=3.5.0->ipywidgets) (0.5.1)\n",
      "Requirement already satisfied: packaging in c:\\users\\tomma\\appdata\\local\\programs\\python\\python39\\lib\\site-packages (from bleach->nbconvert->notebook>=4.4.1->widgetsnbextension~=3.5.0->ipywidgets) (20.9)\n",
      "Requirement already satisfied: pyparsing>=2.0.2 in c:\\users\\tomma\\appdata\\local\\programs\\python\\python39\\lib\\site-packages (from packaging->bleach->nbconvert->notebook>=4.4.1->widgetsnbextension~=3.5.0->ipywidgets) (2.4.7)\n"
     ]
    }
   ],
   "source": [
    "# Install a pip package in the current Jupyter kernel\n",
    "import sys\n",
    "!{sys.executable} -m pip install matplotlib\n",
    "!{sys.executable} -m pip install numpy\n",
    "!{sys.executable} -m pip install ipywidgets"
   ]
  },
  {
   "cell_type": "code",
   "execution_count": 3,
   "metadata": {},
   "outputs": [],
   "source": [
    "%matplotlib widget\n",
    "from matplotlib import pyplot as plt\n",
    "import numpy as np\n",
    "from ipywidgets import interact"
   ]
  },
  {
   "source": [
    "# SIR epidemics model interactive simulation  \n",
    "SIR models are based on the assumption that each individual is either Susceptible, Infectious, or Removed (removed are NOT considered susceptible anymore, hence they cannot spread the disease).  \n",
    "The simplest SIR model also assumes a constant population N = S(t) + I(t) + R(t) at any given time t.  \n",
    "One of the key ideas behind the SIR model is that people unidirectionally flow between categories in the order S -> I -> R  \n",
    "  \n",
    "The following three differential equations describe the change in population count in each of the categories:  \n",
    "![equation](https://latex.codecogs.com/png.latex?%5Cbg_white%20%5Cboxed%7B%20%5Cbegin%7Balign*%7D%20%26%5Cfrac%7B%5Cmathrm%7Bd%7D%20S%7D%7B%5Cmathrm%7Bd%7D%20t%7D%20%3D%20-%5Cfrac%7B%5Cbeta%20IS%7D%7BN%7D%20%5C%5C%5B15pt%5D%20%26%5Cfrac%7B%5Cmathrm%7Bd%7D%20I%7D%7B%5Cmathrm%7Bd%7D%20t%7D%20%3D%20%5Cfrac%7B%5Cbeta%20IS%7D%7BN%7D%20-%20%5Cgamma%20I%20%5C%5C%5B15pt%5D%20%26%5Cfrac%7B%5Cmathrm%7Bd%7D%20R%7D%7B%5Cmathrm%7Bd%7D%20t%7D%20%3D%20%5Cgamma%20I%20%5Cend%7Balign*%7D%20%7D)\n",
    "\n",
    "The number of susceptible people that become infectious as time goes by depends on the population count of both categories and the contagion coefficient (higher means the disease spreads faster)  \n",
    "By contrast, as the number of susceptible people decreases, the number of infectious increases by the same amount. Some people are going to recover (or sadly die) from the disease, so the number of infectious also decreases depending on the removal coefficient and the current infectious count.\n",
    "Lastly,  the number of removed people increases by the same amount described above."
   ],
   "cell_type": "markdown",
   "metadata": {}
  },
  {
   "cell_type": "code",
   "execution_count": 4,
   "metadata": {},
   "outputs": [],
   "source": [
    "# SIR constants\n",
    "N = 10000       # total population\n",
    "R0 = 0          # initial removed people\n",
    "\n",
    "# beta = 0.4          # contagion coefficient exampla\n",
    "# gamma = 0.04        # removal coefficient example"
   ]
  },
  {
   "source": [
    "The simulation uses the [Euler method](https://en.wikipedia.org/wiki/Euler_method) to calculate curves.  \n",
    "It consists in approximating the function taking small steps on the tangents instead of perfectly following the curve.  \n",
    "The resulting approximation usually is quite good, depending on the chosen step size"
   ],
   "cell_type": "markdown",
   "metadata": {}
  },
  {
   "cell_type": "code",
   "execution_count": 5,
   "metadata": {},
   "outputs": [],
   "source": [
    "# Eulerian approximation constants\n",
    "h = 0.5\n",
    "end = 150\n",
    "\n",
    "t = np.arange(0, end, h)\n",
    "s = np.zeros(int(end/h))\n",
    "i = np.zeros(int(end/h))\n",
    "r = np.zeros(int(end/h))"
   ]
  },
  {
   "cell_type": "code",
   "execution_count": 6,
   "metadata": {},
   "outputs": [],
   "source": [
    "# s, i, r are allocated just once and modified in simulate_sir to avoid unnecessary memory allocations\n",
    "def simulate_sir(I0, beta, gamma, s, i, r):\n",
    "    '''\n",
    "        I0 = initial number of infectious\n",
    "        beta = contagion coefficient\n",
    "        gamma = removal coefficient\n",
    "    '''\n",
    "    s[0] = N-I0-R0     # using N = S + I + R\n",
    "    i[0] = I0\n",
    "    r[0] = R0\n",
    "    \n",
    "    for j in range(1, len(t)):\n",
    "        # calculate the update of the three differencial equations \n",
    "        ds = -(beta * i[j-1] * s[j-1])/N\n",
    "        di = (beta * i[j-1] * s[j-1])/N - gamma*i[j-1]\n",
    "        dr = gamma * i[j-1]\n",
    "        # update values with step h\n",
    "        s[j] = s[j-1] + h*ds\n",
    "        i[j] = i[j-1] + h*di\n",
    "        r[j] = r[j-1] + h*dr"
   ]
  },
  {
   "cell_type": "code",
   "execution_count": 7,
   "metadata": {},
   "outputs": [
    {
     "output_type": "display_data",
     "data": {
      "text/plain": "Canvas(toolbar=Toolbar(toolitems=[('Home', 'Reset original view', 'home', 'home'), ('Back', 'Back to previous …",
      "application/vnd.jupyter.widget-view+json": {
       "version_major": 2,
       "version_minor": 0,
       "model_id": "28abafd378c745dbb518a08ea6df5698"
      }
     },
     "metadata": {}
    },
    {
     "output_type": "display_data",
     "data": {
      "text/plain": "interactive(children=(IntSlider(value=50, description='I_zero', min=1), FloatSlider(value=0.52, description='b…",
      "application/vnd.jupyter.widget-view+json": {
       "version_major": 2,
       "version_minor": 0,
       "model_id": "048d1bb199e04dc3aa1d850a23c827ed"
      }
     },
     "metadata": {}
    }
   ],
   "source": [
    "fig = plt.figure(figsize=(9, 5))\n",
    "ax = plt.axes(xlim=(0, 150), ylim=(0, 10000))\n",
    "\n",
    "# plt.plot(x, y) returns a list of Line2D objects with only one line.\n",
    "# we want three of them to update our plot setting sir data without recreating the plot multiple times\n",
    "lines = [plt.plot([], [])[0] for _ in range(3)]\n",
    "\n",
    "@interact\n",
    "def simulate_changing_params(I_zero=(1, 100, 1), beta=(0.04, 1, 0.01), gamma=(0.004, 0.4, 0.001)):\n",
    "    simulate_sir(I_zero, beta, gamma, s, i, r)\n",
    "    lines[0].set_data(t, s)\n",
    "    lines[1].set_data(t, i)\n",
    "    lines[2].set_data(t, r)"
   ]
  }
 ]
}