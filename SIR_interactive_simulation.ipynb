{
 "cells": [
  {
   "cell_type": "code",
   "execution_count": 1,
   "metadata": {
    "dotnet_interactive": {
     "language": "python"
    }
   },
   "outputs": [],
   "source": [
    "%matplotlib widget\r\n",
    "from matplotlib import pyplot as plt\r\n",
    "import numpy as np\r\n",
    "from ipywidgets import interact"
   ]
  },
  {
   "cell_type": "markdown",
   "metadata": {
    "dotnet_interactive": {
     "language": "python"
    }
   },
   "source": [
    "# SIR epidemics model interactive simulation  \r\n",
    "SIR models are based on the assumption that each individual is either Susceptible, Infectious, or Removed (removed are NOT considered susceptible anymore, hence they cannot spread the disease).  \r\n",
    "The simplest SIR model also assumes a constant population N = S(t) + I(t) + R(t) at any given time t.  \r\n",
    "One of the key ideas behind the SIR model is that people unidirectionally flow between categories in the order S -> I -> R  \r\n",
    "  \r\n",
    "The following three differential equations describe the change in population count in each of the categories:  \r\n",
    "![equation](https://latex.codecogs.com/png.latex?%5Cbg_white%20%5Cboxed%7B%20%5Cbegin%7Balign*%7D%20%26%5Cfrac%7B%5Cmathrm%7Bd%7D%20S%7D%7B%5Cmathrm%7Bd%7D%20t%7D%20%3D%20-%5Cfrac%7B%5Cbeta%20IS%7D%7BN%7D%20%5C%5C%5B15pt%5D%20%26%5Cfrac%7B%5Cmathrm%7Bd%7D%20I%7D%7B%5Cmathrm%7Bd%7D%20t%7D%20%3D%20%5Cfrac%7B%5Cbeta%20IS%7D%7BN%7D%20-%20%5Cgamma%20I%20%5C%5C%5B15pt%5D%20%26%5Cfrac%7B%5Cmathrm%7Bd%7D%20R%7D%7B%5Cmathrm%7Bd%7D%20t%7D%20%3D%20%5Cgamma%20I%20%5Cend%7Balign*%7D%20%7D)\r\n",
    "\r\n",
    "The number of susceptible people that become infectious as time goes by depends on the population count of both categories and the contagion coefficient (higher means the disease spreads faster)  \r\n",
    "By contrast, as the number of susceptible people decreases, the number of infectious increases by the same amount. Some people are going to recover (or sadly die) from the disease, so the number of infectious also decreases depending on the removal coefficient and the current infectious count.\r\n",
    "Lastly,  the number of removed people increases by the same amount described above."
   ]
  },
  {
   "cell_type": "code",
   "execution_count": 2,
   "metadata": {
    "dotnet_interactive": {
     "language": "python"
    }
   },
   "outputs": [],
   "source": [
    "# SIR constants\r\n",
    "N = 10000       # total population\r\n",
    "R0 = 0          # initial removed people\r\n",
    "\r\n",
    "# beta = 0.4          # contagion coefficient exampla\r\n",
    "# gamma = 0.04        # removal coefficient example"
   ]
  },
  {
   "cell_type": "markdown",
   "metadata": {
    "dotnet_interactive": {
     "language": "python"
    }
   },
   "source": [
    "The simulation uses the [Euler method](https://en.wikipedia.org/wiki/Euler_method) to calculate curves.  \r\n",
    "It consists in approximating the function taking small steps on the tangents instead of perfectly following the curve.  \r\n",
    "The resulting approximation usually is quite good, depending on the chosen step size"
   ]
  },
  {
   "cell_type": "code",
   "execution_count": 3,
   "metadata": {
    "dotnet_interactive": {
     "language": "python"
    }
   },
   "outputs": [],
   "source": [
    "# Eulerian approximation constants\r\n",
    "h = 0.5\r\n",
    "end = 150\r\n",
    "\r\n",
    "t = np.arange(0, end, h)\r\n",
    "s = np.zeros(int(end/h))\r\n",
    "i = np.zeros(int(end/h))\r\n",
    "r = np.zeros(int(end/h))"
   ]
  },
  {
   "cell_type": "code",
   "execution_count": 4,
   "metadata": {
    "dotnet_interactive": {
     "language": "python"
    }
   },
   "outputs": [],
   "source": [
    "# s, i, r are allocated just once and modified in simulate_sir to avoid unnecessary memory allocations\r\n",
    "def simulate_sir(I0, beta, gamma, s, i, r):\r\n",
    "    '''\r\n",
    "        I0 = initial number of infectious\r\n",
    "        beta = contagion coefficient\r\n",
    "        gamma = removal coefficient\r\n",
    "    '''\r\n",
    "    s[0] = N-I0-R0     # using N = S + I + R\r\n",
    "    i[0] = I0\r\n",
    "    r[0] = R0\r\n",
    "    \r\n",
    "    for j in range(1, len(t)):\r\n",
    "        # calculate the update of the three differencial equations \r\n",
    "        ds = -(beta * i[j-1] * s[j-1])/N\r\n",
    "        di = (beta * i[j-1] * s[j-1])/N - gamma*i[j-1]\r\n",
    "        dr = gamma * i[j-1]\r\n",
    "        # update values with step h\r\n",
    "        s[j] = s[j-1] + h*ds\r\n",
    "        i[j] = i[j-1] + h*di\r\n",
    "        r[j] = r[j-1] + h*dr"
   ]
  },
  {
   "cell_type": "code",
   "execution_count": 6,
   "metadata": {
    "dotnet_interactive": {
     "language": "python"
    }
   },
   "outputs": [
    {
     "data": {
      "application/vnd.jupyter.widget-view+json": {
       "model_id": "9d34987cce5b4c81a105b40cb727fc3c",
       "version_major": 2,
       "version_minor": 0
      },
      "text/plain": "Canvas(toolbar=Toolbar(toolitems=[('Home', 'Reset original view', 'home', 'home'), ('Back', 'Back to previous …"
     },
     "metadata": {},
     "output_type": "display_data"
    },
    {
     "data": {
      "application/vnd.jupyter.widget-view+json": {
       "model_id": "95d8ea31184e4e0b809dbbe66d947cb5",
       "version_major": 2,
       "version_minor": 0
      },
      "text/plain": "interactive(children=(IntSlider(value=50, description='I_zero', min=1), FloatSlider(value=0.52, description='b…"
     },
     "metadata": {},
     "output_type": "display_data"
    }
   ],
   "source": [
    "fig = plt.figure(figsize=(9, 5))\r\n",
    "ax = plt.axes(xlim=(0, 150), ylim=(0, 10000))\r\n",
    "\r\n",
    "# plt.plot(x, y) returns a list of Line2D objects with only one line.\r\n",
    "# we want three of them to update our plot setting sir data without recreating the plot multiple times\r\n",
    "lines = [plt.plot([], [])[0] for _ in range(3)]\r\n",
    "\r\n",
    "@interact\r\n",
    "def simulate_changing_params(I_zero=(1, 100, 1), beta=(0.04, 1, 0.01), gamma=(0.004, 0.4, 0.001)):\r\n",
    "    simulate_sir(I_zero, beta, gamma, s, i, r)\r\n",
    "    lines[0].set_data(t, s)\r\n",
    "    lines[1].set_data(t, i)\r\n",
    "    lines[2].set_data(t, r)"
   ]
  }
 ],
 "metadata": {
  "kernelspec": {
   "display_name": ".NET (C#)",
   "language": "C#",
   "name": ".net-csharp"
  },
  "language_info": {
   "codemirror_mode": {
    "name": "ipython",
    "version": 3
   },
   "file_extension": ".py",
   "mimetype": "text/x-python",
   "name": "python",
   "nbconvert_exporter": "python",
   "pygments_lexer": "ipython3",
   "version": "3.9.1"
  }
 },
 "nbformat": 4,
 "nbformat_minor": 2
}