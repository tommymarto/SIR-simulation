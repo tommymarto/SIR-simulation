{
 "metadata": {
  "language_info": {
   "codemirror_mode": {
    "name": "ipython",
    "version": 3
   },
   "file_extension": ".py",
   "mimetype": "text/x-python",
   "name": "python",
   "nbconvert_exporter": "python",
   "pygments_lexer": "ipython3",
   "version": "3.9.1-final"
  },
  "orig_nbformat": 2,
  "kernelspec": {
   "name": "python3",
   "display_name": "Python 3",
   "language": "python"
  }
 },
 "nbformat": 4,
 "nbformat_minor": 2,
 "cells": [
  {
   "cell_type": "code",
   "execution_count": null,
   "metadata": {},
   "outputs": [],
   "source": [
    "%matplotlib widget\n",
    "from matplotlib import pyplot as plt\n",
    "import numpy as np\n",
    "from ipywidgets import interact"
   ]
  },
  {
   "source": [
    "# SIR epidemics model interactive simulation  \n",
    "SIR models are based on the assumption that each individual is either Susceptible, Infectious, or Removed (removed are NOT considered susceptible anymore, hence they cannot spread the disease).  \n",
    "The simplest SIR model also assumes a constant population N = S(t) + I(t) + R(t) at any given time t.  \n",
    "One of the key ideas behind the SIR model is that people unidirectionally flow between categories in the order S -> I -> R  \n",
    "  \n",
    "The following three differential equations describe the change in population count in each of the categories:  \n",
    "![equation](https://latex.codecogs.com/png.latex?%5Cbg_white%20%5Cboxed%7B%20%5Cbegin%7Balign*%7D%20%26%5Cfrac%7B%5Cmathrm%7Bd%7D%20S%7D%7B%5Cmathrm%7Bd%7D%20t%7D%20%3D%20-%5Cfrac%7B%5Cbeta%20IS%7D%7BN%7D%20%5C%5C%5B15pt%5D%20%26%5Cfrac%7B%5Cmathrm%7Bd%7D%20I%7D%7B%5Cmathrm%7Bd%7D%20t%7D%20%3D%20%5Cfrac%7B%5Cbeta%20IS%7D%7BN%7D%20-%20%5Cgamma%20I%20%5C%5C%5B15pt%5D%20%26%5Cfrac%7B%5Cmathrm%7Bd%7D%20R%7D%7B%5Cmathrm%7Bd%7D%20t%7D%20%3D%20%5Cgamma%20I%20%5Cend%7Balign*%7D%20%7D)\n",
    "\n",
    "The number of susceptible people that become infectious as time goes by depends on the population count of both categories and the contagion coefficient (higher means the disease spreads faster)  \n",
    "By contrast, as the number of susceptible people decreases, the number of infectious increases by the same amount. Some people are going to recover (or sadly die) from the disease, so the number of infectious also decreases depending on the removal coefficient and the current infectious count.\n",
    "Lastly,  the number of removed people increases by the same amount described above."
   ],
   "cell_type": "markdown",
   "metadata": {}
  },
  {
   "cell_type": "code",
   "execution_count": null,
   "metadata": {},
   "outputs": [],
   "source": [
    "# SIR constants\n",
    "N = 10000       # total population\n",
    "R0 = 0          # initial removed people\n",
    "\n",
    "# beta = 0.4          # contagion coefficient exampla\n",
    "# gamma = 0.04        # removal coefficient example"
   ]
  },
  {
   "source": [
    "The simulation uses the [Euler method](https://en.wikipedia.org/wiki/Euler_method) to calculate curves.  \n",
    "It consists in approximating the function taking small steps on the tangents instead of perfectly following the curve.  \n",
    "The resulting approximation usually is quite good, depending on the chosen step size"
   ],
   "cell_type": "markdown",
   "metadata": {}
  },
  {
   "cell_type": "code",
   "execution_count": null,
   "metadata": {},
   "outputs": [],
   "source": [
    "# Eulerian approximation constants\n",
    "h = 0.5\n",
    "end = 150\n",
    "\n",
    "t = np.arange(0, end, h)\n",
    "s = np.zeros(int(end/h))\n",
    "i = np.zeros(int(end/h))\n",
    "r = np.zeros(int(end/h))"
   ]
  },
  {
   "cell_type": "code",
   "execution_count": null,
   "metadata": {},
   "outputs": [],
   "source": [
    "# s, i, r are allocated just once and modified in simulate_sir to avoid unnecessary memory allocations\n",
    "def simulate_sir(I0, beta, gamma, s, i, r):\n",
    "    '''\n",
    "        I0 = initial number of infectious\n",
    "        beta = contagion coefficient\n",
    "        gamma = removal coefficient\n",
    "    '''\n",
    "    s[0] = N-I0-R0     # using N = S + I + R\n",
    "    i[0] = I0\n",
    "    r[0] = R0\n",
    "    \n",
    "    for j in range(1, len(t)):\n",
    "        # calculate the update of the three differencial equations \n",
    "        ds = -(beta * i[j-1] * s[j-1])/N\n",
    "        di = (beta * i[j-1] * s[j-1])/N - gamma*i[j-1]\n",
    "        dr = gamma * i[j-1]\n",
    "        # update values with step h\n",
    "        s[j] = s[j-1] + h*ds\n",
    "        i[j] = i[j-1] + h*di\n",
    "        r[j] = r[j-1] + h*dr"
   ]
  },
  {
   "cell_type": "code",
   "execution_count": null,
   "metadata": {},
   "outputs": [],
   "source": [
    "fig = plt.figure(figsize=(9, 5))\n",
    "ax = plt.axes(xlim=(0, 150), ylim=(0, 10000))\n",
    "\n",
    "# plt.plot(x, y) returns a list of Line2D objects with only one line.\n",
    "# we want three of them to update our plot setting sir data without recreating the plot multiple times\n",
    "lines = [plt.plot([], [])[0] for _ in range(3)]\n",
    "\n",
    "@interact\n",
    "def simulate_changing_params(I_zero=(1, 100, 1), beta=(0.04, 1, 0.01), gamma=(0.004, 0.4, 0.001)):\n",
    "    simulate_sir(I_zero, beta, gamma, s, i, r)\n",
    "    lines[0].set_data(t, s)\n",
    "    lines[1].set_data(t, i)\n",
    "    lines[2].set_data(t, r)"
   ]
  }
 ]
}